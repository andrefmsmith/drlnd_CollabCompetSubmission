{
 "cells": [
  {
   "cell_type": "markdown",
   "metadata": {},
   "source": [
    "# Collaboration and Competition\n",
    "\n",
    "---\n",
    "\n",
    "In this notebook, you will learn how to use the Unity ML-Agents environment for the third project of the [Deep Reinforcement Learning Nanodegree](https://www.udacity.com/course/deep-reinforcement-learning-nanodegree--nd893) program.\n",
    "\n",
    "### 1. Start the Environment\n",
    "\n",
    "We begin by importing the necessary packages.  If the code cell below returns an error, please revisit the project instructions to double-check that you have installed [Unity ML-Agents](https://github.com/Unity-Technologies/ml-agents/blob/master/docs/Installation.md) and [NumPy](http://www.numpy.org/)."
   ]
  },
  {
   "cell_type": "code",
   "execution_count": 1,
   "metadata": {},
   "outputs": [],
   "source": [
    "import copy\n",
    "import torch\n",
    "import random\n",
    "import numpy as np\n",
    "import torch.nn as nn\n",
    "import torch.optim as optim\n",
    "import matplotlib.pyplot as plt\n",
    "import torch.nn.functional as F\n",
    "from unityagents import UnityEnvironment\n",
    "from collections import namedtuple, deque"
   ]
  },
  {
   "cell_type": "code",
   "execution_count": 2,
   "metadata": {},
   "outputs": [
    {
     "name": "stderr",
     "output_type": "stream",
     "text": [
      "INFO:unityagents:\n",
      "'Academy' started successfully!\n",
      "Unity Academy name: Academy\n",
      "        Number of Brains: 1\n",
      "        Number of External Brains : 1\n",
      "        Lesson number : 0\n",
      "        Reset Parameters :\n",
      "\t\t\n",
      "Unity brain name: TennisBrain\n",
      "        Number of Visual Observations (per agent): 0\n",
      "        Vector Observation space type: continuous\n",
      "        Vector Observation space size (per agent): 8\n",
      "        Number of stacked Vector Observation: 3\n",
      "        Vector Action space type: continuous\n",
      "        Vector Action space size (per agent): 2\n",
      "        Vector Action descriptions: , \n"
     ]
    }
   ],
   "source": [
    "env = UnityEnvironment(file_name=\"Tennis_Windows_x86_64/Tennis.exe\")\n",
    "\n",
    "# get the default brain\n",
    "wimbledon = env.brain_names[0]\n",
    "brain = env.brains[wimbledon]\n",
    "\n",
    "env_info = env.reset(train_mode=True)[wimbledon]\n",
    "\n",
    "action_size = brain.vector_action_space_size\n",
    "states = env_info.vector_observations\n",
    "state_size = states.shape[1]"
   ]
  },
  {
   "cell_type": "markdown",
   "metadata": {},
   "source": [
    "### 3. Take Random Actions in the Environment\n",
    "\n",
    "In the next code cell, you will learn how to use the Python API to control the agents and receive feedback from the environment.\n",
    "\n",
    "Once this cell is executed, you will watch the agents' performance, if they select actions at random with each time step.  A window should pop up that allows you to observe the agents.\n",
    "\n",
    "Of course, as part of the project, you'll have to change the code so that the agents are able to use their experiences to gradually choose better actions when interacting with the environment!"
   ]
  },
  {
   "cell_type": "code",
   "execution_count": null,
   "metadata": {},
   "outputs": [],
   "source": [
    "for i in range(1, 6):                                      # play game for 5 episodes\n",
    "    env_info = env.reset(train_mode=False)[wimbledon]     # reset the environment    \n",
    "    states = env_info.vector_observations                  # get the current state (for each agent)\n",
    "    scores = np.zeros(num_agents)                          # initialize the score (for each agent)\n",
    "    while True:\n",
    "        actions = np.random.randn(num_agents, action_size) # select an action (for each agent)\n",
    "        actions = np.clip(actions, -1, 1)                  # all actions between -1 and 1\n",
    "        env_info = env.step(actions)[wimbledon]           # send all actions to tne environment\n",
    "        next_states = env_info.vector_observations         # get next state (for each agent)\n",
    "        rewards = env_info.rewards                         # get reward (for each agent)\n",
    "        dones = env_info.local_done                        # see if episode finished\n",
    "        scores += env_info.rewards                         # update the score (for each agent)\n",
    "        states = next_states                               # roll over states to next time step\n",
    "        if np.any(dones):                                  # exit loop if episode finished\n",
    "            break\n",
    "    print('Score (max over agents) from episode {}: {}'.format(i, np.max(scores)))"
   ]
  },
  {
   "cell_type": "markdown",
   "metadata": {},
   "source": [
    "When finished, you can close the environment."
   ]
  },
  {
   "cell_type": "markdown",
   "metadata": {},
   "source": [
    "## Hyperparameters"
   ]
  },
  {
   "cell_type": "code",
   "execution_count": 3,
   "metadata": {},
   "outputs": [],
   "source": [
    "BUFFER_SIZE = int(1e5)     # replay buffer size\n",
    "BATCH_SIZE = 64            # minibatch size\n",
    "GAMMA = 0.99               # discount factor\n",
    "TAU = 1e-3                 # for soft update of target parameters\n",
    "LR_ACTOR = 1e-4            # learning rate of the actor \n",
    "LR_CRITIC = 3e-4           # learning rate of the critic\n",
    "update_every = 5           # number of timesteps after which to run an update\n",
    "SN = 0.5                   # starting value for additive noise scale (exploratory actions)\n",
    "ND = 0.999                 # noise decay rate (exploratory actions)\n",
    "NM = 0.01                  # noise minimum to be maintained (exploratory actions)\n",
    "UC = 3                     # Number of cycles to run updates for\n",
    "\n",
    "device = torch.device(\"cuda:0\" if torch.cuda.is_available() else \"cpu\")"
   ]
  },
  {
   "cell_type": "markdown",
   "metadata": {},
   "source": [
    "## DDPG agents\n",
    "____\n",
    "### Define Actor and Critic"
   ]
  },
  {
   "cell_type": "code",
   "execution_count": 4,
   "metadata": {},
   "outputs": [],
   "source": [
    "class Actor(nn.Module):\n",
    "    def __init__(self, state_size, action_size, hu=(256, 128), activ_in = F.relu, activ_out = torch.tanh):\n",
    "        super(Actor, self).__init__()\n",
    "        \n",
    "        self.activ_in = activ_in\n",
    "        self.activ_out = activ_out\n",
    "        \n",
    "        self.input_layer = nn.Linear(state_size, hu[0])\n",
    "        self.hl1 = nn.Linear(hu[0], hu[1])\n",
    "        self.output_layer = nn.Linear(hu[-1], action_size)\n",
    "        \n",
    "    def forward(self, state):\n",
    "        x = state\n",
    "        x = self.activ_in(self.input_layer(x))\n",
    "        x = self.activ_in(self.hl1(x))\n",
    "        return self.activ_out(self.output_layer(x))  \n",
    "    \n",
    "class Critic(nn.Module):\n",
    "    def __init__(self, state_size, action_size, hu=(256, 128), activ_in = F.relu):\n",
    "        super(Critic, self).__init__()\n",
    "        \n",
    "        self.activ_in = activ_in\n",
    "        \n",
    "        self.input_layer = nn.Linear(state_size, hu[0])\n",
    "        self.hl1 = nn.Linear(hu[0]+action_size, hu[1])\n",
    "        self.output_layer = nn.Linear(hu[-1], 1)\n",
    "        \n",
    "    def forward(self, state, action):\n",
    "        x = state\n",
    "        u = action\n",
    "        \n",
    "        x = self.activ_in(self.input_layer(x))\n",
    "        x = torch.cat((x, u), dim=1)\n",
    "        x = self.activ_in(self.hl1(x))\n",
    "        return self.output_layer(x)"
   ]
  },
  {
   "cell_type": "markdown",
   "metadata": {},
   "source": [
    "### Define DDPG agent"
   ]
  },
  {
   "cell_type": "code",
   "execution_count": 5,
   "metadata": {},
   "outputs": [],
   "source": [
    "class DDPG():\n",
    "    def __init__(self, state_size, action_size, num_agents=2, batch_size=BATCH_SIZE,\n",
    "                 start_noise=SN, noise_decay=ND, noise_min=NM, add_noise=True):\n",
    "        super(DDPG, self).__init__()\n",
    "        self.state_size = state_size\n",
    "        self.action_size = action_size\n",
    "        \n",
    "        ### Initialise actor online and target networks\n",
    "        self.actor_online = Actor(state_size, action_size).to(device)\n",
    "        self.actor_target = Actor(state_size, action_size).to(device)\n",
    "        self.actor_optimizer = optim.Adam(self.actor_online.parameters(), lr=LR_ACTOR)\n",
    "        \n",
    "        ### Initialise critic online and target networks\n",
    "        self.critic_online = Critic(num_agents*state_size, num_agents*action_size).to(device)\n",
    "        self.critic_target = Critic(num_agents*state_size, num_agents*action_size).to(device)\n",
    "        self.critic_optimizer = optim.Adam(self.critic_online.parameters(), lr=LR_CRITIC)\n",
    "        \n",
    "        ### Ensure actor and online networks start off with same parameters\n",
    "        self.equalize_OnlineTarget(self.actor_target, self.actor_online)\n",
    "        self.equalize_OnlineTarget(self.critic_target, self.critic_online)\n",
    "        \n",
    "        ### Noise parameters for exploration\n",
    "        self.noise_scale = start_noise\n",
    "        self.noise_decay = noise_decay\n",
    "        self.noise_min = noise_min\n",
    "        self.add_noise = add_noise\n",
    "        \n",
    "        ### Set number of agents and batch size for easy access later\n",
    "        self.num_agents = num_agents\n",
    "        self.batch_size = batch_size\n",
    "        \n",
    "    def equalize_OnlineTarget(self, target, online):\n",
    "        for target_param, online_param in zip(target.parameters(), online.parameters()):\n",
    "            target_param.data.copy_(online_param.data)\n",
    "            \n",
    "    def generate_noise(self):\n",
    "        noise = np.random.normal(loc=0, scale=self.noise_scale, size=self.action_size)\n",
    "        self.noise_scale = max(self.noise_decay*self.noise_scale, self.noise_min)\n",
    "        return noise\n",
    "    \n",
    "    def act(self, state):\n",
    "        state = torch.from_numpy(state).float().to(device)\n",
    "        self.actor_online.eval()\n",
    "        with torch.no_grad():\n",
    "            action = self.actor_online(state).cpu().data.numpy()\n",
    "        self.actor_online.train()\n",
    "        if self.add_noise:\n",
    "            action += self.generate_noise()\n",
    "        return np.clip(action, -1, 1)\n",
    "    \n",
    "    def soft_update(self, online_model, target_model, tau):\n",
    "        for target_param, online_param in zip(target_model.parameters(), online_model.parameters()):\n",
    "            target_param.data.copy_(tau*online_param.data + (1.0-tau)*target_param.data)"
   ]
  },
  {
   "cell_type": "code",
   "execution_count": 6,
   "metadata": {},
   "outputs": [],
   "source": [
    "### Define a Public Replaybuffer class to store experiences, organise and sample from them\n",
    "class ReplayBuffer:\n",
    "    def __init__(self, action_size, buffer_size, batch_size):\n",
    "        self.action_size = action_size\n",
    "        self.memory = deque(maxlen=buffer_size)\n",
    "        self.batch_size = batch_size\n",
    "        self.experience = namedtuple(\"Experience\", field_names=[\"full_state\", \"state\",\\\n",
    "                                                                \"action\", \"reward\",\\\n",
    "                                                                \"full_next_state\", \"next_state\",\\\n",
    "                                                                \"done\"])\n",
    "    \n",
    "    ### Adds an experience tuple to memory\n",
    "    def add(self, full_state, state, action, reward, full_next_state, next_state, done):\n",
    "        e = self.experience(full_state, state, action, reward, full_next_state, next_state, done)\n",
    "        self.memory.append(e)\n",
    "\n",
    "    ### Samples k (batch size) experience tuples randomly from memory\n",
    "    def sample(self):\n",
    "        experiences = random.sample(self.memory, k=self.batch_size)\n",
    "        \n",
    "        full_states = torch.from_numpy(np.vstack([e.full_state for e in experiences if e is not None])).float().to(device)\n",
    "        states = torch.from_numpy(np.vstack([e.state for e in experiences if e is not None])).float().to(device)\n",
    "        actions = torch.from_numpy(np.vstack([e.action for e in experiences if e is not None])).float().to(device)\n",
    "        rewards = torch.from_numpy(np.vstack([e.reward for e in experiences if e is not None])).float().to(device)\n",
    "        full_next_states = torch.from_numpy(np.vstack([e.full_next_state for e in experiences if e is not None])).float().to(device)\n",
    "        next_states = torch.from_numpy(np.vstack([e.next_state for e in experiences if e is not None])).float().to(device)\n",
    "        dones = torch.from_numpy(np.vstack([e.done for e in experiences if e is not None]).astype(np.uint8)).float().to(device)\n",
    "        \n",
    "        return (full_states, states, actions, rewards, full_next_states, next_states, dones)\n",
    "    \n",
    "    def __len__(self):\n",
    "        return len(self.memory)"
   ]
  },
  {
   "cell_type": "code",
   "execution_count": 42,
   "metadata": {},
   "outputs": [],
   "source": [
    "class MADDPG(object):\n",
    "    def __init__(self, state_size, action_size, num_agents=2, update_cycles = UC):\n",
    "        self.state_size = state_size\n",
    "        self.action_size = action_size\n",
    "        self.num_agents = num_agents\n",
    "        self.full_action_len = self.action_size*num_agents\n",
    "        self.memory = ReplayBuffer(action_size, BUFFER_SIZE, BATCH_SIZE)\n",
    "        \n",
    "        ### Keep track of timesteps since last training update\n",
    "        self.update = 0\n",
    "        self.update_cycles = UC\n",
    "        \n",
    "        self.maddpg_agents = [DDPG(state_size, action_size, num_agents) for i in range(self.num_agents)]\n",
    "        \n",
    "        self.batch_size = self.maddpg_agents[0].batch_size\n",
    "        \n",
    "    def step(self, states, actions, rewards, next_states, dones):\n",
    "        full_states = np.concatenate(states)\n",
    "        full_next_states = np.concatenate(next_states)\n",
    "        \n",
    "        self.memory.add(full_states, states, actions, rewards, full_next_states, next_states, dones)\n",
    "    \n",
    "        self.update = (self.update +1)%update_every\n",
    "        \n",
    "        if (self.update==0):\n",
    "            if len(self.memory) > BATCH_SIZE:\n",
    "                for _ in range(self.update_cycles):\n",
    "                    for agent in range(self.num_agents):\n",
    "                        experiences = self.memory.sample()\n",
    "                        self.learn(experiences, agent, GAMMA)\n",
    "                    self.soft_update_all()\n",
    "                    \n",
    "    def soft_update_all(self):\n",
    "        for agent in self.maddpg_agents:\n",
    "            agent.soft_update(agent.actor_online, agent.actor_target, TAU)\n",
    "            agent.soft_update(agent.critic_online, agent.critic_target, TAU)\n",
    "            \n",
    "    def learn(self, experiences, id_agent, gamma):\n",
    "        full_states, states, actions, rewards, full_next_states, next_states, dones = experiences\n",
    "        \n",
    "        full_actions = actions.reshape((self.batch_size, self.num_agents*self.action_size))\n",
    "        actions = actions.reshape(self.num_agents, self.batch_size, self.action_size)\n",
    "        states = states.reshape(self.num_agents,self.batch_size, self.state_size)\n",
    "        next_states = next_states.reshape(self.num_agents,self.batch_size, self.state_size)\n",
    "        rewards = rewards.reshape(self.num_agents, self.batch_size, 1)\n",
    "        dones = dones.reshape(self.num_agents, self.batch_size, 1)\n",
    "        \n",
    "        full_next_actions = torch.cat([self.maddpg_agents[i].actor_target(next_states[i]) for i in range(self.num_agents)], dim=1)\n",
    "        \n",
    "        Q_targets_next = self.maddpg_agents[id_agent].critic_target(full_next_states, full_next_actions)\n",
    "        Q_targets = rewards[id_agent] + (gamma * Q_targets_next * (1-dones[id_agent]))\n",
    "        Q_expected = self.maddpg_agents[id_agent].critic_online(full_states, full_actions)\n",
    "        \n",
    "        critic_loss = F.mse_loss(Q_expected, Q_targets)\n",
    "        self.maddpg_agents[id_agent].critic_optimizer.zero_grad()\n",
    "        critic_loss.backward()\n",
    "        torch.nn.utils.clip_grad_norm_(self.maddpg_agents[id_agent].critic_online.parameters(), 1)\n",
    "        self.maddpg_agents[id_agent].critic_optimizer.step()\n",
    "        \n",
    "        \n",
    "        actions_pred = self.maddpg_agents[id_agent].actor_online(states[id_agent])\n",
    "        full_actions_pred = torch.cat([self.maddpg_agents[i].actor_online(states[i,:]) for i in range(self.num_agents)], dim=1)\n",
    "        actor_loss = -self.maddpg_agents[id_agent].critic_online(full_states, full_actions_pred).mean()\n",
    "        \n",
    "        self.maddpg_agents[id_agent].actor_optimizer.zero_grad()\n",
    "        actor_loss.backward()\n",
    "        torch.nn.utils.clip_grad_norm_(self.maddpg_agents[id_agent].actor_online.parameters(), 1)\n",
    "        self.maddpg_agents[id_agent].actor_optimizer.step()\n",
    "    \n",
    "    def act_all(self, states):\n",
    "        actions = []\n",
    "        for i, state in enumerate(states):\n",
    "            actions.append(self.maddpg_agents[i].act(state))\n",
    "        return np.concatenate(actions)\n",
    "    \n",
    "    def save_all(self, filename):\n",
    "        for i, agent in enumerate(self.maddpg_agents):\n",
    "            torch.save(agent.actor_online.state_dict(), '{}_checkpoint_actor_online_agent_{}.pth'.format(filename))\n",
    "            torch.save(agent.critic_online.state_dict(), '{}_checkpoint_critic_online_agent_{}.pth'.format(filename))"
   ]
  },
  {
   "cell_type": "code",
   "execution_count": 44,
   "metadata": {},
   "outputs": [],
   "source": [
    "def train_MADDPG(multiagent, filename, overtrain=True, num_episodes=2000):\n",
    "    scores_deque = deque(maxlen=100)\n",
    "    scores = []\n",
    "    \n",
    "    for i_episode in range(1, num_episodes):\n",
    "        env_info = env.reset(train_mode=True)[wimbledon]\n",
    "        states = env_info.vector_observations\n",
    "        score = np.zeros(multiagent.num_agents)\n",
    "        \n",
    "        while True:\n",
    "            actions = multiagent.act_all(states)\n",
    "            env_info = env.step(actions)[wimbledon]\n",
    "            next_states = env_info.vector_observations\n",
    "            rewards = env_info.rewards\n",
    "            dones = env_info.local_done\n",
    "            multiagent.step(states, actions, rewards, next_states, dones)\n",
    "            states = next_states\n",
    "            score += rewards\n",
    "            if done:\n",
    "                break\n",
    "                \n",
    "        scores_deque.append(np.max(score))\n",
    "        scores.append(score)\n",
    "        \n",
    "        print('\\rEpisode {}\\tAverage Score: {:.2f}\\tScore: {:.2f}'.format(i_episode, np.mean(scores_deque), score), end=\"\")\n",
    "        if np.mean(scores_deque) >= 0.5:\n",
    "            print('\\nEnvironment solved in {:d} episodes!\\tAverage Score: {:.2f}'.format(i_episode-100, np.mean(scores_deque)))\n",
    "            multiagent.save_all(filename)\n",
    "            if not overtrain:\n",
    "                break\n",
    "                \n",
    "    return scores"
   ]
  },
  {
   "cell_type": "code",
   "execution_count": 32,
   "metadata": {},
   "outputs": [],
   "source": [
    "federer_murray = MADDPG(state_size, action_size)\n",
    "scores = train_MADDPG(federer_murray, filename='06_04_2020_#1')"
   ]
  },
  {
   "cell_type": "code",
   "execution_count": null,
   "metadata": {},
   "outputs": [],
   "source": [
    "#####below for debug######"
   ]
  },
  {
   "cell_type": "code",
   "execution_count": 14,
   "metadata": {},
   "outputs": [],
   "source": [
    "                           # play game for 5 episodes\n",
    "env_info = env.reset(train_mode=False)[wimbledon]     # reset the environment    \n",
    "states = env_info.vector_observations                  # get the current state (for each agent)                         # initialize the score (for each agent)\n",
    "\n",
    "actions = np.random.randn(2, action_size) # select an action (for each agent)\n",
    "actions = np.clip(actions, -1, 1)                  # all actions between -1 and 1\n",
    "env_info = env.step(actions)[wimbledon]           # send all actions to tne environment\n",
    "next_states = env_info.vector_observations         # get next state (for each agent)\n",
    "rewards = env_info.rewards                         # get reward (for each agent)\n",
    "dones = env_info.local_done                        # see if episode finished\n",
    "                        # update the score (for each agent)\n",
    "test_agent.step(states, actions, rewards, next_states, dones)\n",
    "#states = next_states\n",
    "env_info = env.step(actions)[wimbledon] "
   ]
  },
  {
   "cell_type": "code",
   "execution_count": 15,
   "metadata": {},
   "outputs": [],
   "source": [
    "experiences = test_agent.memory.sample()"
   ]
  },
  {
   "cell_type": "code",
   "execution_count": 16,
   "metadata": {},
   "outputs": [],
   "source": [
    "test_agent.learn(experiences, 0, GAMMA)"
   ]
  },
  {
   "cell_type": "code",
   "execution_count": null,
   "metadata": {},
   "outputs": [],
   "source": [
    "### reshapes\n",
    "\n",
    "full_states, states, actions, rewards, full_next_states, next_states, dones = experiences\n",
    "\n",
    "full_next_actions = torch.cat([test_agent.maddpg_agents[i].actor_target(next_states[i]) for i in range(test_agent.num_agents)], dim=1)\n",
    "full_actions = actions.reshape((test_agent.batch_size, test_agent.num_agents*test_agent.action_size))\n",
    "actions = actions.reshape(test_agent.num_agents, test_agent.batch_size, test_agent.action_size)\n",
    "states = states.reshape(test_agent.num_agents,test_agent.batch_size, test_agent.state_size)\n",
    "next_states = next_states.reshape(test_agent.num_agents,test_agent.batch_size, test_agent.state_size)\n",
    "rewards = rewards.reshape(test_agent.num_agents, test_agent.batch_size, 1)\n",
    "dones = dones.reshape(test_agent.num_agents, test_agent.batch_size, 1)"
   ]
  },
  {
   "cell_type": "code",
   "execution_count": 18,
   "metadata": {},
   "outputs": [],
   "source": [
    "env_info = env.reset(train_mode=False)[wimbledon]\n",
    "states = env_info.vector_observations"
   ]
  },
  {
   "cell_type": "code",
   "execution_count": 28,
   "metadata": {},
   "outputs": [
    {
     "name": "stdout",
     "output_type": "stream",
     "text": [
      "[-0.78376746 -1.        ]\n",
      "[-0.70983344 -0.9541246 ]\n",
      "[-0.78376746 -1.         -0.70983344 -0.9541246 ]\n"
     ]
    }
   ],
   "source": [
    "a_s = []\n",
    "for i, state in enumerate(states):\n",
    "    a_s.append(test_agent.maddpg_agents[i].act(state))\n",
    "a_s_c= np.concatenate(a_s)\n",
    "print(a_s[0])\n",
    "print(a_s[1])\n",
    "print(a_s_c)"
   ]
  },
  {
   "cell_type": "code",
   "execution_count": 34,
   "metadata": {},
   "outputs": [],
   "source": [
    "testactions = test_agent.act_all(states)"
   ]
  },
  {
   "cell_type": "code",
   "execution_count": 35,
   "metadata": {},
   "outputs": [
    {
     "data": {
      "text/plain": [
       "<unityagents.brain.BrainInfo at 0x25d23bdc940>"
      ]
     },
     "execution_count": 35,
     "metadata": {},
     "output_type": "execute_result"
    }
   ],
   "source": [
    "env.step(testactions)[wimbledon]"
   ]
  },
  {
   "cell_type": "code",
   "execution_count": 36,
   "metadata": {},
   "outputs": [
    {
     "data": {
      "text/plain": [
       "array([0.27686918, 0.87768495], dtype=float32)"
      ]
     },
     "execution_count": 36,
     "metadata": {},
     "output_type": "execute_result"
    }
   ],
   "source": [
    "test_agent.maddpg_agents[0].act(states[0])"
   ]
  },
  {
   "cell_type": "code",
   "execution_count": 40,
   "metadata": {},
   "outputs": [],
   "source": [
    "rew = np.zeros(2) + env_info.rewards"
   ]
  },
  {
   "cell_type": "code",
   "execution_count": 41,
   "metadata": {},
   "outputs": [
    {
     "name": "stdout",
     "output_type": "stream",
     "text": [
      "[0. 0.]\n"
     ]
    }
   ],
   "source": [
    "rew += env_info.rewards\n",
    "print(rew)"
   ]
  },
  {
   "cell_type": "code",
   "execution_count": 43,
   "metadata": {},
   "outputs": [],
   "source": []
  }
 ],
 "metadata": {
  "kernelspec": {
   "display_name": "Python 3",
   "language": "python",
   "name": "python3"
  },
  "language_info": {
   "codemirror_mode": {
    "name": "ipython",
    "version": 3
   },
   "file_extension": ".py",
   "mimetype": "text/x-python",
   "name": "python",
   "nbconvert_exporter": "python",
   "pygments_lexer": "ipython3",
   "version": "3.6.10"
  }
 },
 "nbformat": 4,
 "nbformat_minor": 2
}

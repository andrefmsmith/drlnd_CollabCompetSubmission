{
 "cells": [
  {
   "cell_type": "markdown",
   "metadata": {},
   "source": [
    "# Collaboration and Competition\n",
    "\n",
    "---\n",
    "\n",
    "In this notebook, you will learn how to use the Unity ML-Agents environment for the third project of the [Deep Reinforcement Learning Nanodegree](https://www.udacity.com/course/deep-reinforcement-learning-nanodegree--nd893) program.\n",
    "\n",
    "### 1. Start the Environment\n",
    "\n",
    "We begin by importing the necessary packages.  If the code cell below returns an error, please revisit the project instructions to double-check that you have installed [Unity ML-Agents](https://github.com/Unity-Technologies/ml-agents/blob/master/docs/Installation.md) and [NumPy](http://www.numpy.org/)."
   ]
  },
  {
   "cell_type": "code",
   "execution_count": 1,
   "metadata": {},
   "outputs": [],
   "source": [
    "import copy\n",
    "import torch\n",
    "import random\n",
    "import numpy as np\n",
    "import torch.nn as nn\n",
    "import torch.optim as optim\n",
    "import matplotlib.pyplot as plt\n",
    "import torch.nn.functional as F\n",
    "from unityagents import UnityEnvironment\n",
    "from collections import namedtuple, deque"
   ]
  },
  {
   "cell_type": "code",
   "execution_count": 2,
   "metadata": {},
   "outputs": [
    {
     "name": "stderr",
     "output_type": "stream",
     "text": [
      "INFO:unityagents:\n",
      "'Academy' started successfully!\n",
      "Unity Academy name: Academy\n",
      "        Number of Brains: 1\n",
      "        Number of External Brains : 1\n",
      "        Lesson number : 0\n",
      "        Reset Parameters :\n",
      "\t\t\n",
      "Unity brain name: TennisBrain\n",
      "        Number of Visual Observations (per agent): 0\n",
      "        Vector Observation space type: continuous\n",
      "        Vector Observation space size (per agent): 8\n",
      "        Number of stacked Vector Observation: 3\n",
      "        Vector Action space type: continuous\n",
      "        Vector Action space size (per agent): 2\n",
      "        Vector Action descriptions: , \n"
     ]
    }
   ],
   "source": [
    "env = UnityEnvironment(file_name=\"Tennis_Windows_x86_64/Tennis.exe\")\n",
    "\n",
    "# get the default brain\n",
    "wimbledon = env.brain_names[0]\n",
    "brain = env.brains[wimbledon]\n",
    "\n",
    "env_info = env.reset(train_mode=True)[wimbledon]\n",
    "\n",
    "action_size = brain.vector_action_space_size\n",
    "states = env_info.vector_observations\n",
    "state_size = states.shape[1]"
   ]
  },
  {
   "cell_type": "markdown",
   "metadata": {},
   "source": [
    "### 2. Examine the State and Action Spaces\n",
    "\n",
    "In this environment, two agents control rackets to bounce a ball over a net. If an agent hits the ball over the net, it receives a reward of +0.1.  If an agent lets a ball hit the ground or hits the ball out of bounds, it receives a reward of -0.01.  Thus, the goal of each agent is to keep the ball in play.\n",
    "\n",
    "The observation space consists of 8 variables corresponding to the position and velocity of the ball and racket. Two continuous actions are available, corresponding to movement toward (or away from) the net, and jumping. \n",
    "\n",
    "Run the code cell below to print some information about the environment."
   ]
  },
  {
   "cell_type": "markdown",
   "metadata": {},
   "source": [
    "### 3. Take Random Actions in the Environment\n",
    "\n",
    "In the next code cell, you will learn how to use the Python API to control the agents and receive feedback from the environment.\n",
    "\n",
    "Once this cell is executed, you will watch the agents' performance, if they select actions at random with each time step.  A window should pop up that allows you to observe the agents.\n",
    "\n",
    "Of course, as part of the project, you'll have to change the code so that the agents are able to use their experiences to gradually choose better actions when interacting with the environment!"
   ]
  },
  {
   "cell_type": "code",
   "execution_count": null,
   "metadata": {},
   "outputs": [],
   "source": [
    "ep_len = np.zeros((5), dtype='int32')\n",
    "for i in range(1, 6):                                      # play game for 5 episodes\n",
    "    env_info = env.reset(train_mode=False)[wimbledon]     # reset the environment    \n",
    "    states = env_info.vector_observations                  # get the current state (for each agent)\n",
    "    scores = np.zeros(num_agents)                          # initialize the score (for each agent)\n",
    "    while True:\n",
    "        ep_len[i-1]+=1\n",
    "        actions = np.random.randn(num_agents, action_size) # select an action (for each agent)\n",
    "        actions = np.clip(actions, -1, 1)                  # all actions between -1 and 1\n",
    "        env_info = env.step(actions)[wimbledon]           # send all actions to tne environment\n",
    "        next_states = env_info.vector_observations         # get next state (for each agent)\n",
    "        rewards = env_info.rewards                         # get reward (for each agent)\n",
    "        dones = env_info.local_done                        # see if episode finished\n",
    "        scores += env_info.rewards                         # update the score (for each agent)\n",
    "        states = next_states                               # roll over states to next time step\n",
    "        if np.any(dones):                                  # exit loop if episode finished\n",
    "            break\n",
    "    print('Score (max over agents) from episode {}: {}'.format(i, np.max(scores)))"
   ]
  },
  {
   "cell_type": "markdown",
   "metadata": {},
   "source": [
    "When finished, you can close the environment."
   ]
  },
  {
   "cell_type": "markdown",
   "metadata": {},
   "source": [
    "## Hyperparameters"
   ]
  },
  {
   "cell_type": "code",
   "execution_count": 3,
   "metadata": {},
   "outputs": [],
   "source": [
    "BUFFER_SIZE = int(1e5)     # replay buffer size\n",
    "BATCH_SIZE = 256          # minibatch size\n",
    "GAMMA = 0.99               # discount factor\n",
    "TAU = 1e-3                 # for soft update of target parameters\n",
    "LR_ACTOR = 1e-4            # learning rate of the actor \n",
    "LR_CRITIC = 3e-4           # learning rate of the critic\n",
    "update_every = 150          # number of timesteps after which to run an update\n",
    "SN = 0.5                  # starting value for additive noise scale (exploratory actions)\n",
    "ND = 0.999               # noise decay rate (exploratory actions)\n",
    "NM = 0.01                  # noise minimum to be maintained (exploratory actions)"
   ]
  },
  {
   "cell_type": "markdown",
   "metadata": {},
   "source": [
    "## DDPG agents\n",
    "____\n",
    "### Define Actor and Critic"
   ]
  },
  {
   "cell_type": "code",
   "execution_count": 4,
   "metadata": {},
   "outputs": [],
   "source": [
    "class Actor(nn.Module):\n",
    "    def __init__(self, state_size, action_size, hu=(256, 128), activ_in = F.relu, activ_out = torch.tanh):\n",
    "        super(Actor, self).__init__()\n",
    "        \n",
    "        self.activ_in = activ_in\n",
    "        self.activ_out = activ_out\n",
    "        \n",
    "        self.input_layer = nn.Linear(state_size, hu[0])\n",
    "        self.hl1 = nn.Linear(hu[0], hu[1])\n",
    "        self.output_layer = nn.Linear(hu[-1], action_size)\n",
    "        \n",
    "    def forward(self, state):\n",
    "        x = state\n",
    "        x = self.activ_in(self.input_layer(x))\n",
    "        x = self.activ_in(self.hl1(x))\n",
    "        return self.activ_out(self.output_layer(x))  \n",
    "    \n",
    "class Critic(nn.Module):\n",
    "    def __init__(self, state_size, action_size, hu=(256, 128), activ_in = F.relu):\n",
    "        super(Critic, self).__init__()\n",
    "        \n",
    "        self.activ_in = activ_in\n",
    "        \n",
    "        self.input_layer = nn.Linear(state_size, hu[0])\n",
    "        self.hl1 = nn.Linear(hu[0]+action_size, hu[1])\n",
    "        self.output_layer = nn.Linear(hu[-1], 1)\n",
    "        \n",
    "    def forward(self, state, action):\n",
    "        x = state\n",
    "        u = action\n",
    "        \n",
    "        x = self.activ_in(self.input_layer(x))\n",
    "        x = torch.cat((x, u), dim=1)\n",
    "        x = self.activ_in(self.hl1(x))\n",
    "        return self.output_layer(x)"
   ]
  },
  {
   "cell_type": "markdown",
   "metadata": {},
   "source": [
    "### Define DDPG agent"
   ]
  },
  {
   "cell_type": "code",
   "execution_count": null,
   "metadata": {},
   "outputs": [],
   "source": [
    "class DDPG():\n",
    "    def __init__(self, state_size, action_size, num_agents=2):\n",
    "        self.state_size = state_size\n",
    "        self.action_size = action_size\n",
    "        \n",
    "        ### Initialise actor online and target networks\n",
    "        self.actor_online = Actor(state_size, action_size).to(device)\n",
    "        self.actor_target = Actor(state_size, action_size).to(device)\n",
    "        self.actor_optimizer = optim.Adam(self.actor_online.parameters(), lr=LR_ACTOR)\n",
    "        \n",
    "        ### Initialise critic online and target networks\n",
    "        self.critic_online = Critic(state_size, action_size).to(device)\n",
    "        self.critic_target = Critic(state_size, action_size).to(device)\n",
    "        self.critic_optimizer = optim.Adam(self.critic_online.parameters(), lr=LR_CRITIC)\n",
    "        \n",
    "        ### Ensure actor and online networks start off with same parameters\n",
    "        self.equalize_OnlineTarget(self.actor_target, self.actor_online)\n",
    "        self.equalize_OnlineTarget(self.critic_target, self.critic_online)\n",
    "        \n",
    "        ### Noise parameters for exploration\n",
    "        self.noise_scale = start_noise\n",
    "        self.noise_decay = noise_decay\n",
    "        self.noise_min = noise_min\n",
    "        \n",
    "        self.add_noise = add_noise\n",
    "        \n",
    "        ### Replay buffer\n",
    "        #self.memory = ReplayBuffer(action_size, BUFFER_SIZE, BATCH_SIZE)\n",
    "        \n",
    "        ### Keep track of timesteps since last training update\n",
    "        #self.update = 0\n",
    "        \n",
    "    def equalize_OnlineTarget(self, target, online):\n",
    "        for target_param, online_param in zip(target.parameters(), online.parameters()):\n",
    "            target_param.data.copy_(online_param.data)\n",
    "            \n",
    "    def generate_noise(self):\n",
    "        noise = np.random.normal(loc=0, scale=self.noise_scale, size=self.action_size)\n",
    "        self.noise_scale = max(self.noise_decay*self.noise_scale, self.noise_min)\n",
    "        return noise"
   ]
  }
 ],
 "metadata": {
  "kernelspec": {
   "display_name": "Python 3",
   "language": "python",
   "name": "python3"
  },
  "language_info": {
   "codemirror_mode": {
    "name": "ipython",
    "version": 3
   },
   "file_extension": ".py",
   "mimetype": "text/x-python",
   "name": "python",
   "nbconvert_exporter": "python",
   "pygments_lexer": "ipython3",
   "version": "3.6.10"
  }
 },
 "nbformat": 4,
 "nbformat_minor": 2
}

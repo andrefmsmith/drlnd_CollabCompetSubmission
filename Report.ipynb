{
 "cells": [
  {
   "cell_type": "markdown",
   "metadata": {},
   "source": [
    "# DRLND Project 3 Report: Collaboration and Competition\n",
    "______________________________"
   ]
  },
  {
   "cell_type": "markdown",
   "metadata": {},
   "source": [
    "## Introduction\n",
    "This is my submission report for Project 3 (Collaboration & Competition) of Udacity's Deep Reinforcement Learning Nanodegree.  \n",
    "\n",
    "In this project, we train 2 agents to play against each other in the Udacity Tennis environment. Agents are rewarded for bouncing the ball over the net and punished for knocking it out of bounds or letting it hit the ground. Their overall goal therefore is to keep bouncing the ball to each other for as long as possible. The task has a larger element of collaboration than competition since the only way agents can maximize their score is if their action allows the other agent to hit the ball back, keeping it within grounds. "
   ]
  }
 ],
 "metadata": {
  "kernelspec": {
   "display_name": "drlnd",
   "language": "python",
   "name": "drlnd"
  },
  "language_info": {
   "codemirror_mode": {
    "name": "ipython",
    "version": 3
   },
   "file_extension": ".py",
   "mimetype": "text/x-python",
   "name": "python",
   "nbconvert_exporter": "python",
   "pygments_lexer": "ipython3",
   "version": "3.6.10"
  }
 },
 "nbformat": 4,
 "nbformat_minor": 4
}
